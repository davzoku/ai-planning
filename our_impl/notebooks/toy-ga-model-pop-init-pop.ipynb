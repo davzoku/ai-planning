{
 "cells": [
  {
   "cell_type": "markdown",
   "metadata": {},
   "source": [
    "## Custom Sampling / Initial Population Creation\n",
    "\n",
    "\n",
    "Directly converted from R code which uses an 1D array formulation for 8 weeks, so the gene is (1728, )\n",
    "\n",
    "- (4+2)*8*36\n",
    "- where there is 4 products category\n",
    "- 2 decision variable; display, feature\n",
    "- time horizon of 8 weeks\n",
    "- 36 products per category"
   ]
  },
  {
   "cell_type": "code",
   "execution_count": 4,
   "metadata": {},
   "outputs": [],
   "source": [
    "import numpy as np\n",
    "from pymoo.core.sampling import Sampling\n",
    "\n",
    "GAobj = {\n",
    "    'popSize': 10,\n",
    "    'nBits': 1728,\n",
    "    'nc': 36,\n",
    "    'h': 8,\n",
    "    'price_ga': 4,\n",
    "    'ndf': 2,\n",
    "    'Lim_pr_low': 23.04,\n",
    "    'Lim_d': 0,\n",
    "    'Lim_f': 21.96,\n",
    "    'Lim_dr_t': 0,\n",
    "    'Lim_fr_t': 4.56,\n",
    "}\n",
    "\n",
    "class SKUPopulationSampling(Sampling):\n",
    "\n",
    "    def __init__(self, GAobj):\n",
    "        super().__init__()\n",
    "        self.GAobj = GAobj\n",
    "\n",
    "    def _do(self, problem, n_samples, **kwargs):\n",
    "        # Extracting parameters from GAobj for clarity\n",
    "        GAobj = self.GAobj\n",
    "        pop_size = GAobj['popSize']\n",
    "        pop_nBits = GAobj['nBits']\n",
    "        nc = GAobj['nc']\n",
    "        h = GAobj['h']\n",
    "        price_ga = GAobj['price_ga']\n",
    "        ndf = GAobj['ndf']\n",
    "        Lim_pr_low = GAobj['Lim_pr_low']\n",
    "        Lim_d = GAobj['Lim_d']\n",
    "        Lim_f = GAobj['Lim_f']\n",
    "        Lim_dr_t = GAobj['Lim_dr_t']\n",
    "        Lim_fr_t = GAobj['Lim_fr_t']\n",
    "        \n",
    "        # Initializing the population matrix\n",
    "        sku_pop = np.zeros((pop_size, pop_nBits), dtype=int)\n",
    "        \n",
    "        for s in range(pop_size):\n",
    "            x_sku_pop = np.zeros((nc, (price_ga + ndf) * h), dtype=int)\n",
    "            \n",
    "            d_nt = np.zeros(nc, dtype=int)\n",
    "            f_nt = np.zeros(nc, dtype=int)\n",
    "            p_nt = np.zeros(nc, dtype=int)\n",
    "            \n",
    "            for pop_t in range(h):\n",
    "                t_index_start = pop_t * 6\n",
    "                t_index_end = (pop_t + 1) * 6 - 1\n",
    "                \n",
    "                rnum_pr = np.random.choice(np.arange(1, nc), int(np.ceil(Lim_pr_low)), replace=False)\n",
    "                p_nt[rnum_pr] += 1\n",
    "                \n",
    "                rnum_d = np.zeros(nc, dtype=int)\n",
    "                sample_d = np.random.choice(np.arange(nc), int(np.floor(Lim_d)), replace=False)\n",
    "                rnum_d[sample_d] = 1\n",
    "                d_nt[rnum_d == 1] += 1\n",
    "                \n",
    "                rnum_f = np.zeros(nc, dtype=int)\n",
    "                sample_f = np.random.choice(np.arange(nc), int(np.floor(Lim_f)), replace=False)\n",
    "                rnum_f[sample_f] = 1\n",
    "                f_nt[rnum_f == 1] += 1\n",
    "                \n",
    "                # Handling promotions\n",
    "                if len(rnum_pr) > 0:\n",
    "                    for pr_i in rnum_pr:\n",
    "                        # Random multinomial distribution equivalent in Python\n",
    "                        x_sku_pop[pr_i, t_index_start:t_index_start + 3] = np.random.multinomial(1, [0.2, 0.2, 0.2], size=1).T.flatten()\n",
    "                        \n",
    "                x_sku_pop[:, t_index_start + 4] = rnum_d\n",
    "                x_sku_pop[:, t_index_start + 5] = rnum_f\n",
    "            \n",
    "            # Flatten and assign to the population matrix\n",
    "            sku_pop[s, :] = x_sku_pop.flatten()\n",
    "        \n",
    "        return sku_pop"
   ]
  },
  {
   "cell_type": "code",
   "execution_count": 10,
   "metadata": {},
   "outputs": [
    {
     "name": "stdout",
     "output_type": "stream",
     "text": [
      "=================================================\n",
      "n_gen  |  n_eval  |     f_avg     |     f_min    \n",
      "=================================================\n",
      "     1 |       10 |  0.000000E+00 |  0.000000E+00\n"
     ]
    }
   ],
   "source": [
    "from pymoo.core.problem import ElementwiseProblem\n",
    "from pymoo.optimize import minimize\n",
    "from pymoo.algorithms.soo.nonconvex.ga import GA\n",
    "import numpy as np\n",
    "\n",
    "class PromotionOptimizationProblem(ElementwiseProblem):\n",
    "    def __init__(self):\n",
    "        self.product_num = 4\n",
    "        self.discount_num = 1\n",
    "        self.feature_num = 1\n",
    "        self.constraint_num = 0\n",
    "        self.week_count = 8\n",
    "        self.category_num = 36\n",
    "\n",
    "        #should be this? but ref_impl code it this way\n",
    "        # n_var = (self.product_num * (self.discount_num + self.feature_num)) * self.week_count * self.category_num\n",
    "        n_var = (self.product_num + self.discount_num + self.feature_num) * self.week_count * self.category_num\n",
    "\n",
    "        self.lim_pr_low = 23.04\n",
    "        self.lim_d = 0\n",
    "        self.lim_f=21.96\n",
    "        self.dr_t=0\n",
    "        self.fr_t=4.56\n",
    "\n",
    "        super().__init__(n_var=n_var, n_obj=1, n_constr=self.constraint_num, xl=np.zeros(n_var), xu=np.ones(n_var))\n",
    "\n",
    "\n",
    "\n",
    "    def _evaluate(self, x, out, *args, **kwargs):\n",
    "        profit = 0\n",
    "        # todo\n",
    "\n",
    "        out[\"F\"] = -profit\n",
    "        # out[\"G\"] = constraints\n",
    "\n",
    "problem = PromotionOptimizationProblem()\n",
    "\n",
    "algorithm = GA(pop_size=10, sampling=SKUPopulationSampling(GAobj=GAobj))\n",
    "\n",
    "res = minimize(problem,\n",
    "               algorithm,\n",
    "               #todo use custom sampling as mentioned\n",
    "               ('n_gen', 1),\n",
    "               seed=1,\n",
    "               verbose=True)\n",
    "\n"
   ]
  },
  {
   "cell_type": "code",
   "execution_count": 11,
   "metadata": {},
   "outputs": [
    {
     "name": "stdout",
     "output_type": "stream",
     "text": [
      "Best solution found: \n",
      "X = [0 0 0 ... 0 0 1]\n",
      "F = [0.]\n"
     ]
    }
   ],
   "source": [
    "print(\"Best solution found: \\nX = %s\\nF = %s\" % (res.X, res.F))"
   ]
  },
  {
   "cell_type": "code",
   "execution_count": 12,
   "metadata": {},
   "outputs": [
    {
     "data": {
      "text/plain": [
       "(1728,)"
      ]
     },
     "execution_count": 12,
     "metadata": {},
     "output_type": "execute_result"
    }
   ],
   "source": [
    "res.X.shape"
   ]
  },
  {
   "cell_type": "code",
   "execution_count": 14,
   "metadata": {},
   "outputs": [
    {
     "name": "stdout",
     "output_type": "stream",
     "text": [
      "Output saved to output.txt\n"
     ]
    }
   ],
   "source": [
    "output_file_path = \"output.txt\"\n",
    "with open(output_file_path, \"w\") as file:\n",
    "    for item in res.X:\n",
    "        file.write(str(item) + \"\\n\")\n",
    "\n",
    "print(\"Output saved to\", output_file_path)"
   ]
  },
  {
   "cell_type": "code",
   "execution_count": 42,
   "metadata": {},
   "outputs": [
    {
     "name": "stdout",
     "output_type": "stream",
     "text": [
      "num_ones= 24, p_nt=array([0, 1, 1, 1, 1, 1, 1, 1, 1, 0, 1, 1, 1, 1, 1, 1, 1, 1, 0, 1, 0, 1,\n",
      "       0, 1, 0, 1, 1, 1, 1, 1])\n",
      "num_ones_1=0, d_nt=array([0, 0, 0, 0, 0, 0, 0, 0, 0, 0, 0, 0, 0, 0, 0, 0, 0, 0, 0, 0, 0, 0,\n",
      "       0, 0, 0, 0, 0, 0, 0, 0])\n",
      "num_ones_2=21, f_nt=array([1, 0, 1, 0, 1, 1, 1, 0, 1, 0, 1, 0, 1, 1, 1, 1, 1, 1, 1, 1, 0, 1,\n",
      "       0, 1, 0, 0, 1, 1, 1, 1])\n"
     ]
    }
   ],
   "source": [
    "import numpy as np\n",
    "from pymoo.core.sampling import Sampling\n",
    "\n",
    "GAobj = {\n",
    "    'popSize': 1,\n",
    "    'nBits': 180,\n",
    "    'nc': 30, # reduce to 1 \n",
    "    'h': 1, #reduce to 1 week\n",
    "    'price_ga': 4,\n",
    "    'ndf': 2,\n",
    "    'Lim_pr_low': 23.04,\n",
    "    'Lim_d': 0,\n",
    "    'Lim_f': 21.96,\n",
    "    'Lim_dr_t': 0,\n",
    "    'Lim_fr_t': 4.56,\n",
    "}\n",
    "\n",
    "class SKUPopulationSampling(Sampling):\n",
    "\n",
    "    def __init__(self, GAobj):\n",
    "        super().__init__()\n",
    "        self.GAobj = GAobj\n",
    "\n",
    "    def _do(self, problem=None, n_samples=None, **kwargs):\n",
    "        # Extracting parameters from GAobj for clarity\n",
    "        GAobj = self.GAobj\n",
    "        pop_size = GAobj['popSize']\n",
    "        pop_nBits = GAobj['nBits']\n",
    "        nc = GAobj['nc']\n",
    "        h = GAobj['h']\n",
    "        price_ga = GAobj['price_ga']\n",
    "        ndf = GAobj['ndf']\n",
    "        Lim_pr_low = GAobj['Lim_pr_low']\n",
    "        Lim_d = GAobj['Lim_d']\n",
    "        Lim_f = GAobj['Lim_f']\n",
    "        Lim_dr_t = GAobj['Lim_dr_t']\n",
    "        Lim_fr_t = GAobj['Lim_fr_t']\n",
    "        \n",
    "        # Initializing the population matrix\n",
    "        sku_pop = np.zeros((pop_size, pop_nBits), dtype=int)\n",
    "        \n",
    "        for s in range(pop_size):\n",
    "            x_sku_pop = np.zeros((nc, (price_ga + ndf) * h), dtype=int)\n",
    "            \n",
    "            d_nt = np.zeros(nc, dtype=int)\n",
    "            f_nt = np.zeros(nc, dtype=int)\n",
    "            p_nt = np.zeros(nc, dtype=int)\n",
    "            \n",
    "            for pop_t in range(h):\n",
    "                t_index_start = pop_t * 6\n",
    "                t_index_end = (pop_t + 1) * 6 - 1\n",
    "                \n",
    "                rnum_pr = np.random.choice(np.arange(1, nc), int(np.ceil(Lim_pr_low)), replace=False)\n",
    "                p_nt[rnum_pr] += 1\n",
    "                num_ones = np.count_nonzero(p_nt == 1)\n",
    "                print(f\"{num_ones= }, {p_nt=}\")\n",
    "                \n",
    "                rnum_d = np.zeros(nc, dtype=int)\n",
    "                sample_d = np.random.choice(np.arange(nc), int(np.floor(Lim_d)), replace=False)\n",
    "                rnum_d[sample_d] = 1\n",
    "                d_nt[rnum_d == 1] += 1\n",
    "                num_ones_1 = np.count_nonzero(d_nt == 1)\n",
    "                print(f\"{num_ones_1=}, {d_nt=}\")\n",
    "                \n",
    "                rnum_f = np.zeros(nc, dtype=int)\n",
    "                sample_f = np.random.choice(np.arange(nc), int(np.floor(Lim_f)), replace=False)\n",
    "                rnum_f[sample_f] = 1\n",
    "                f_nt[rnum_f == 1] += 1\n",
    "                num_ones_2 = np.count_nonzero(f_nt == 1)\n",
    "                print(f\"{num_ones_2=}, {f_nt=}\")\n",
    "                \n",
    "                # Handling promotions\n",
    "                if len(rnum_pr) > 0:\n",
    "                    for pr_i in rnum_pr:\n",
    "                        # Random multinomial distribution equivalent in Python\n",
    "                        x_sku_pop[pr_i, t_index_start:t_index_start + 3] = np.random.multinomial(1, [0.2, 0.2, 0.2], size=1).T.flatten()\n",
    "                        \n",
    "                x_sku_pop[:, t_index_start + 4] = rnum_d\n",
    "                x_sku_pop[:, t_index_start + 5] = rnum_f\n",
    "            \n",
    "            # Flatten and assign to the population matrix\n",
    "            sku_pop[s, :] = x_sku_pop.flatten()\n",
    "        \n",
    "        return sku_pop\n",
    "    \n",
    "test = SKUPopulationSampling(GAobj)._do()\n",
    "\n"
   ]
  },
  {
   "cell_type": "code",
   "execution_count": 43,
   "metadata": {},
   "outputs": [
    {
     "data": {
      "text/plain": [
       "array([[0, 0, 0, 0, 0, 1, 0, 0, 1, 0, 0, 0, 0, 1, 0, 0, 0, 1, 0, 1, 0, 0,\n",
       "        0, 0, 0, 0, 1, 0, 0, 1, 0, 0, 1, 0, 0, 1, 0, 0, 1, 0, 0, 1, 1, 0,\n",
       "        0, 0, 0, 0, 1, 0, 0, 0, 0, 1, 0, 0, 0, 0, 0, 0, 0, 1, 0, 0, 0, 1,\n",
       "        0, 0, 1, 0, 0, 0, 0, 1, 0, 0, 0, 1, 1, 0, 0, 0, 0, 1, 1, 0, 0, 0,\n",
       "        0, 1, 0, 0, 1, 0, 0, 1, 0, 0, 1, 0, 0, 1, 0, 0, 1, 0, 0, 1, 0, 0,\n",
       "        0, 0, 0, 1, 1, 0, 0, 0, 0, 1, 0, 0, 0, 0, 0, 0, 1, 0, 0, 0, 0, 1,\n",
       "        0, 0, 0, 0, 0, 0, 0, 1, 0, 0, 0, 1, 0, 0, 0, 0, 0, 0, 0, 0, 1, 0,\n",
       "        0, 0, 0, 1, 0, 0, 0, 1, 0, 0, 1, 0, 0, 1, 1, 0, 0, 0, 0, 1, 0, 0,\n",
       "        1, 0, 0, 1]])"
      ]
     },
     "execution_count": 43,
     "metadata": {},
     "output_type": "execute_result"
    }
   ],
   "source": [
    "test"
   ]
  },
  {
   "cell_type": "code",
   "execution_count": 33,
   "metadata": {},
   "outputs": [
    {
     "data": {
      "text/plain": [
       "(1, 180)"
      ]
     },
     "execution_count": 33,
     "metadata": {},
     "output_type": "execute_result"
    }
   ],
   "source": [
    "test.shape"
   ]
  },
  {
   "cell_type": "code",
   "execution_count": 44,
   "metadata": {},
   "outputs": [
    {
     "data": {
      "text/plain": [
       "45"
      ]
     },
     "execution_count": 44,
     "metadata": {},
     "output_type": "execute_result"
    }
   ],
   "source": [
    "np.count_nonzero(test == 1)"
   ]
  },
  {
   "cell_type": "markdown",
   "metadata": {},
   "source": [
    "The number of 1s from the initial pop matches the constraints designed."
   ]
  }
 ],
 "metadata": {
  "kernelspec": {
   "display_name": "google-or-tools",
   "language": "python",
   "name": "python3"
  },
  "language_info": {
   "codemirror_mode": {
    "name": "ipython",
    "version": 3
   },
   "file_extension": ".py",
   "mimetype": "text/x-python",
   "name": "python",
   "nbconvert_exporter": "python",
   "pygments_lexer": "ipython3",
   "version": "3.10.13"
  }
 },
 "nbformat": 4,
 "nbformat_minor": 2
}
